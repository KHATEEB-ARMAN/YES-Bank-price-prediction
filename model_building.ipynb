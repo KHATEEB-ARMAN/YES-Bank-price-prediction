{
 "cells": [
  {
   "cell_type": "code",
   "execution_count": 70,
   "id": "0b3d17a5",
   "metadata": {},
   "outputs": [],
   "source": [
    "import pandas as pd\n",
    "import numpy as np\n",
    "import matplotlib.pyplot as plt\n",
    "from sklearn.model_selection import train_test_split\n",
    "from sklearn.preprocessing import StandardScaler,minmax_scale,MinMaxScaler\n",
    "from sklearn.linear_model import LinearRegression,LogisticRegression\n",
    "from sklearn.ensemble import RandomForestClassifier "
   ]
  },
  {
   "cell_type": "code",
   "execution_count": 71,
   "id": "bcb5e6ca",
   "metadata": {},
   "outputs": [
    {
     "data": {
      "application/vnd.microsoft.datawrangler.viewer.v0+json": {
       "columns": [
        {
         "name": "index",
         "rawType": "int64",
         "type": "integer"
        },
        {
         "name": "Date",
         "rawType": "object",
         "type": "string"
        },
        {
         "name": "Open",
         "rawType": "float64",
         "type": "float"
        },
        {
         "name": "High",
         "rawType": "float64",
         "type": "float"
        },
        {
         "name": "Low",
         "rawType": "float64",
         "type": "float"
        },
        {
         "name": "Close",
         "rawType": "float64",
         "type": "float"
        },
        {
         "name": "Year",
         "rawType": "int64",
         "type": "integer"
        },
        {
         "name": "Full_Date",
         "rawType": "object",
         "type": "string"
        },
        {
         "name": "Price_Range",
         "rawType": "float64",
         "type": "float"
        },
        {
         "name": "Returns",
         "rawType": "float64",
         "type": "float"
        }
       ],
       "ref": "9ee1d336-7e76-4c65-bbfc-5fcb5b798973",
       "rows": [
        [
         "0",
         "Jul-05",
         "13.0",
         "14.0",
         "11.25",
         "12.46",
         "2005",
         "2005-07-05",
         "2.75",
         null
        ],
        [
         "1",
         "Aug-05",
         "12.58",
         "14.88",
         "12.55",
         "13.42",
         "2005",
         "2005-08-05",
         "2.33",
         "7.704654895666119"
        ],
        [
         "2",
         "Sep-05",
         "13.48",
         "14.87",
         "12.27",
         "13.3",
         "2005",
         "2005-09-05",
         "2.6",
         "-0.894187779433675"
        ],
        [
         "3",
         "Oct-05",
         "13.2",
         "14.47",
         "12.4",
         "12.99",
         "2005",
         "2005-10-05",
         "2.0700000000000003",
         "-2.330827067669172"
        ],
        [
         "4",
         "Nov-05",
         "13.35",
         "13.88",
         "12.88",
         "13.41",
         "2005",
         "2005-11-05",
         "1.0",
         "3.23325635103926"
        ]
       ],
       "shape": {
        "columns": 9,
        "rows": 5
       }
      },
      "text/html": [
       "<div>\n",
       "<style scoped>\n",
       "    .dataframe tbody tr th:only-of-type {\n",
       "        vertical-align: middle;\n",
       "    }\n",
       "\n",
       "    .dataframe tbody tr th {\n",
       "        vertical-align: top;\n",
       "    }\n",
       "\n",
       "    .dataframe thead th {\n",
       "        text-align: right;\n",
       "    }\n",
       "</style>\n",
       "<table border=\"1\" class=\"dataframe\">\n",
       "  <thead>\n",
       "    <tr style=\"text-align: right;\">\n",
       "      <th></th>\n",
       "      <th>Date</th>\n",
       "      <th>Open</th>\n",
       "      <th>High</th>\n",
       "      <th>Low</th>\n",
       "      <th>Close</th>\n",
       "      <th>Year</th>\n",
       "      <th>Full_Date</th>\n",
       "      <th>Price_Range</th>\n",
       "      <th>Returns</th>\n",
       "    </tr>\n",
       "  </thead>\n",
       "  <tbody>\n",
       "    <tr>\n",
       "      <th>0</th>\n",
       "      <td>Jul-05</td>\n",
       "      <td>13.00</td>\n",
       "      <td>14.00</td>\n",
       "      <td>11.25</td>\n",
       "      <td>12.46</td>\n",
       "      <td>2005</td>\n",
       "      <td>2005-07-05</td>\n",
       "      <td>2.75</td>\n",
       "      <td>NaN</td>\n",
       "    </tr>\n",
       "    <tr>\n",
       "      <th>1</th>\n",
       "      <td>Aug-05</td>\n",
       "      <td>12.58</td>\n",
       "      <td>14.88</td>\n",
       "      <td>12.55</td>\n",
       "      <td>13.42</td>\n",
       "      <td>2005</td>\n",
       "      <td>2005-08-05</td>\n",
       "      <td>2.33</td>\n",
       "      <td>7.704655</td>\n",
       "    </tr>\n",
       "    <tr>\n",
       "      <th>2</th>\n",
       "      <td>Sep-05</td>\n",
       "      <td>13.48</td>\n",
       "      <td>14.87</td>\n",
       "      <td>12.27</td>\n",
       "      <td>13.30</td>\n",
       "      <td>2005</td>\n",
       "      <td>2005-09-05</td>\n",
       "      <td>2.60</td>\n",
       "      <td>-0.894188</td>\n",
       "    </tr>\n",
       "    <tr>\n",
       "      <th>3</th>\n",
       "      <td>Oct-05</td>\n",
       "      <td>13.20</td>\n",
       "      <td>14.47</td>\n",
       "      <td>12.40</td>\n",
       "      <td>12.99</td>\n",
       "      <td>2005</td>\n",
       "      <td>2005-10-05</td>\n",
       "      <td>2.07</td>\n",
       "      <td>-2.330827</td>\n",
       "    </tr>\n",
       "    <tr>\n",
       "      <th>4</th>\n",
       "      <td>Nov-05</td>\n",
       "      <td>13.35</td>\n",
       "      <td>13.88</td>\n",
       "      <td>12.88</td>\n",
       "      <td>13.41</td>\n",
       "      <td>2005</td>\n",
       "      <td>2005-11-05</td>\n",
       "      <td>1.00</td>\n",
       "      <td>3.233256</td>\n",
       "    </tr>\n",
       "  </tbody>\n",
       "</table>\n",
       "</div>"
      ],
      "text/plain": [
       "     Date   Open   High    Low  Close  Year   Full_Date  Price_Range   Returns\n",
       "0  Jul-05  13.00  14.00  11.25  12.46  2005  2005-07-05         2.75       NaN\n",
       "1  Aug-05  12.58  14.88  12.55  13.42  2005  2005-08-05         2.33  7.704655\n",
       "2  Sep-05  13.48  14.87  12.27  13.30  2005  2005-09-05         2.60 -0.894188\n",
       "3  Oct-05  13.20  14.47  12.40  12.99  2005  2005-10-05         2.07 -2.330827\n",
       "4  Nov-05  13.35  13.88  12.88  13.41  2005  2005-11-05         1.00  3.233256"
      ]
     },
     "execution_count": 71,
     "metadata": {},
     "output_type": "execute_result"
    }
   ],
   "source": [
    "\n",
    "df=pd.read_csv('new_df.csv')\n",
    "df.head()"
   ]
  },
  {
   "cell_type": "code",
   "execution_count": 72,
   "id": "abc319c7",
   "metadata": {},
   "outputs": [
    {
     "name": "stderr",
     "output_type": "stream",
     "text": [
      "C:\\Users\\mkhateed\\AppData\\Local\\Temp\\ipykernel_14628\\4128283084.py:4: FutureWarning: A value is trying to be set on a copy of a DataFrame or Series through chained assignment using an inplace method.\n",
      "The behavior will change in pandas 3.0. This inplace method will never work because the intermediate object on which we are setting values always behaves as a copy.\n",
      "\n",
      "For example, when doing 'df[col].method(value, inplace=True)', try using 'df.method({col: value}, inplace=True)' or df[col] = df[col].method(value) instead, to perform the operation inplace on the original object.\n",
      "\n",
      "\n",
      "  df['Returns'].fillna(0, inplace=True)\n"
     ]
    }
   ],
   "source": [
    "df['year'] =pd.to_datetime( df['Full_Date']).dt.year\n",
    "df['month'] = pd.to_datetime(df['Full_Date']).dt.month\n",
    "df=df.drop(['Full_Date'],axis=1)\n",
    "df['Returns'].fillna(0, inplace=True)"
   ]
  },
  {
   "cell_type": "code",
   "execution_count": 73,
   "id": "5f5b2688",
   "metadata": {},
   "outputs": [
    {
     "data": {
      "application/vnd.microsoft.datawrangler.viewer.v0+json": {
       "columns": [
        {
         "name": "index",
         "rawType": "int64",
         "type": "integer"
        },
        {
         "name": "Open",
         "rawType": "float64",
         "type": "float"
        },
        {
         "name": "High",
         "rawType": "float64",
         "type": "float"
        },
        {
         "name": "Close",
         "rawType": "float64",
         "type": "float"
        },
        {
         "name": "Price_Range",
         "rawType": "float64",
         "type": "float"
        },
        {
         "name": "Returns",
         "rawType": "float64",
         "type": "float"
        },
        {
         "name": "year",
         "rawType": "int32",
         "type": "integer"
        },
        {
         "name": "month",
         "rawType": "int32",
         "type": "integer"
        }
       ],
       "ref": "bf646fc3-72be-483a-9f51-b6a921624632",
       "rows": [
        [
         "0",
         "13.0",
         "14.0",
         "12.46",
         "2.75",
         "0.0",
         "2005",
         "7"
        ],
        [
         "1",
         "12.58",
         "14.88",
         "13.42",
         "2.33",
         "7.704654895666119",
         "2005",
         "8"
        ],
        [
         "2",
         "13.48",
         "14.87",
         "13.3",
         "2.6",
         "-0.894187779433675",
         "2005",
         "9"
        ],
        [
         "3",
         "13.2",
         "14.47",
         "12.99",
         "2.0700000000000003",
         "-2.330827067669172",
         "2005",
         "10"
        ],
        [
         "4",
         "13.35",
         "13.88",
         "13.41",
         "1.0",
         "3.23325635103926",
         "2005",
         "11"
        ]
       ],
       "shape": {
        "columns": 7,
        "rows": 5
       }
      },
      "text/html": [
       "<div>\n",
       "<style scoped>\n",
       "    .dataframe tbody tr th:only-of-type {\n",
       "        vertical-align: middle;\n",
       "    }\n",
       "\n",
       "    .dataframe tbody tr th {\n",
       "        vertical-align: top;\n",
       "    }\n",
       "\n",
       "    .dataframe thead th {\n",
       "        text-align: right;\n",
       "    }\n",
       "</style>\n",
       "<table border=\"1\" class=\"dataframe\">\n",
       "  <thead>\n",
       "    <tr style=\"text-align: right;\">\n",
       "      <th></th>\n",
       "      <th>Open</th>\n",
       "      <th>High</th>\n",
       "      <th>Close</th>\n",
       "      <th>Price_Range</th>\n",
       "      <th>Returns</th>\n",
       "      <th>year</th>\n",
       "      <th>month</th>\n",
       "    </tr>\n",
       "  </thead>\n",
       "  <tbody>\n",
       "    <tr>\n",
       "      <th>0</th>\n",
       "      <td>13.00</td>\n",
       "      <td>14.00</td>\n",
       "      <td>12.46</td>\n",
       "      <td>2.75</td>\n",
       "      <td>0.000000</td>\n",
       "      <td>2005</td>\n",
       "      <td>7</td>\n",
       "    </tr>\n",
       "    <tr>\n",
       "      <th>1</th>\n",
       "      <td>12.58</td>\n",
       "      <td>14.88</td>\n",
       "      <td>13.42</td>\n",
       "      <td>2.33</td>\n",
       "      <td>7.704655</td>\n",
       "      <td>2005</td>\n",
       "      <td>8</td>\n",
       "    </tr>\n",
       "    <tr>\n",
       "      <th>2</th>\n",
       "      <td>13.48</td>\n",
       "      <td>14.87</td>\n",
       "      <td>13.30</td>\n",
       "      <td>2.60</td>\n",
       "      <td>-0.894188</td>\n",
       "      <td>2005</td>\n",
       "      <td>9</td>\n",
       "    </tr>\n",
       "    <tr>\n",
       "      <th>3</th>\n",
       "      <td>13.20</td>\n",
       "      <td>14.47</td>\n",
       "      <td>12.99</td>\n",
       "      <td>2.07</td>\n",
       "      <td>-2.330827</td>\n",
       "      <td>2005</td>\n",
       "      <td>10</td>\n",
       "    </tr>\n",
       "    <tr>\n",
       "      <th>4</th>\n",
       "      <td>13.35</td>\n",
       "      <td>13.88</td>\n",
       "      <td>13.41</td>\n",
       "      <td>1.00</td>\n",
       "      <td>3.233256</td>\n",
       "      <td>2005</td>\n",
       "      <td>11</td>\n",
       "    </tr>\n",
       "  </tbody>\n",
       "</table>\n",
       "</div>"
      ],
      "text/plain": [
       "    Open   High  Close  Price_Range   Returns  year  month\n",
       "0  13.00  14.00  12.46         2.75  0.000000  2005      7\n",
       "1  12.58  14.88  13.42         2.33  7.704655  2005      8\n",
       "2  13.48  14.87  13.30         2.60 -0.894188  2005      9\n",
       "3  13.20  14.47  12.99         2.07 -2.330827  2005     10\n",
       "4  13.35  13.88  13.41         1.00  3.233256  2005     11"
      ]
     },
     "execution_count": 73,
     "metadata": {},
     "output_type": "execute_result"
    }
   ],
   "source": [
    "\n",
    "df=df.drop(columns=['Date','Low','Year'],axis=1)\n",
    "df.head()"
   ]
  },
  {
   "cell_type": "code",
   "execution_count": 74,
   "id": "a42a92bb",
   "metadata": {},
   "outputs": [],
   "source": [
    "X=df.drop(columns=['Close'],axis=1)\n",
    "y=df['Close']\n",
    "X_train, X_test, y_train, y_test = train_test_split(X, y, test_size=0.2, random_state=42)"
   ]
  },
  {
   "cell_type": "code",
   "execution_count": 77,
   "id": "6be9e458",
   "metadata": {},
   "outputs": [
    {
     "data": {
      "text/plain": [
       "array([2005, 2006, 2007, 2008, 2009, 2010, 2011, 2012, 2013, 2014, 2015,\n",
       "       2016, 2017, 2018, 2019, 2020])"
      ]
     },
     "execution_count": 77,
     "metadata": {},
     "output_type": "execute_result"
    }
   ],
   "source": [
    "df['year'].unique()"
   ]
  },
  {
   "cell_type": "code",
   "execution_count": 78,
   "id": "16e489d6",
   "metadata": {},
   "outputs": [
    {
     "data": {
      "application/vnd.microsoft.datawrangler.viewer.v0+json": {
       "columns": [
        {
         "name": "index",
         "rawType": "int64",
         "type": "integer"
        },
        {
         "name": "Open",
         "rawType": "float64",
         "type": "float"
        },
        {
         "name": "High",
         "rawType": "float64",
         "type": "float"
        },
        {
         "name": "Price_Range",
         "rawType": "float64",
         "type": "float"
        },
        {
         "name": "Returns",
         "rawType": "float64",
         "type": "float"
        },
        {
         "name": "year",
         "rawType": "int32",
         "type": "integer"
        },
        {
         "name": "month",
         "rawType": "int32",
         "type": "integer"
        }
       ],
       "ref": "df69f7af-56ca-42f8-b896-e9974927fb26",
       "rows": [
        [
         "0",
         "13.0",
         "14.0",
         "2.75",
         "0.0",
         "2005",
         "7"
        ],
        [
         "1",
         "12.58",
         "14.88",
         "2.33",
         "7.704654895666119",
         "2005",
         "8"
        ],
        [
         "2",
         "13.48",
         "14.87",
         "2.6",
         "-0.894187779433675",
         "2005",
         "9"
        ],
        [
         "3",
         "13.2",
         "14.47",
         "2.0700000000000003",
         "-2.330827067669172",
         "2005",
         "10"
        ],
        [
         "4",
         "13.35",
         "13.88",
         "1.0",
         "3.23325635103926",
         "2005",
         "11"
        ],
        [
         "5",
         "13.49",
         "14.44",
         "1.4399999999999995",
         "2.2371364653243964",
         "2005",
         "12"
        ],
        [
         "6",
         "13.68",
         "17.16",
         "3.58",
         "11.816192560175054",
         "2005",
         "1"
        ],
        [
         "7",
         "15.5",
         "16.97",
         "1.5699999999999985",
         "5.153294194390101",
         "2005",
         "2"
        ],
        [
         "8",
         "16.2",
         "20.95",
         "4.93",
         "24.56575682382132",
         "2005",
         "3"
        ],
        [
         "9",
         "20.56",
         "20.8",
         "2.780000000000001",
         "-2.9382470119521886",
         "2005",
         "4"
        ],
        [
         "10",
         "19.8",
         "21.8",
         "6.0",
         "-7.491021036428924",
         "2005",
         "5"
        ],
        [
         "11",
         "18.2",
         "18.4",
         "4.999999999999998",
         "-13.366611203549647",
         "2005",
         "6"
        ],
        [
         "12",
         "16.0",
         "17.2",
         "3.379999999999999",
         "3.457106274007682",
         "2006",
         "7"
        ],
        [
         "13",
         "15.9",
         "18.6",
         "2.900000000000002",
         "10.396039603960403",
         "2006",
         "8"
        ],
        [
         "14",
         "18.0",
         "18.88",
         "2.0799999999999983",
         "3.47533632286996",
         "2006",
         "9"
        ],
        [
         "15",
         "18.78",
         "24.2",
         "5.699999999999999",
         "23.40195016251354",
         "2006",
         "10"
        ],
        [
         "16",
         "22.8",
         "28.47",
         "7.07",
         "11.150131694468834",
         "2006",
         "11"
        ],
        [
         "17",
         "25.4",
         "29.66",
         "5.260000000000002",
         "6.516587677725116",
         "2006",
         "12"
        ],
        [
         "18",
         "27.4",
         "34.16",
         "7.159999999999997",
         "11.827956989247324",
         "2006",
         "1"
        ],
        [
         "19",
         "30.2",
         "32.6",
         "5.800000000000001",
         "-5.072944297082227",
         "2006",
         "2"
        ]
       ],
       "shape": {
        "columns": 6,
        "rows": 20
       }
      },
      "text/html": [
       "<div>\n",
       "<style scoped>\n",
       "    .dataframe tbody tr th:only-of-type {\n",
       "        vertical-align: middle;\n",
       "    }\n",
       "\n",
       "    .dataframe tbody tr th {\n",
       "        vertical-align: top;\n",
       "    }\n",
       "\n",
       "    .dataframe thead th {\n",
       "        text-align: right;\n",
       "    }\n",
       "</style>\n",
       "<table border=\"1\" class=\"dataframe\">\n",
       "  <thead>\n",
       "    <tr style=\"text-align: right;\">\n",
       "      <th></th>\n",
       "      <th>Open</th>\n",
       "      <th>High</th>\n",
       "      <th>Price_Range</th>\n",
       "      <th>Returns</th>\n",
       "      <th>year</th>\n",
       "      <th>month</th>\n",
       "    </tr>\n",
       "  </thead>\n",
       "  <tbody>\n",
       "    <tr>\n",
       "      <th>0</th>\n",
       "      <td>13.00</td>\n",
       "      <td>14.00</td>\n",
       "      <td>2.75</td>\n",
       "      <td>0.000000</td>\n",
       "      <td>2005</td>\n",
       "      <td>7</td>\n",
       "    </tr>\n",
       "    <tr>\n",
       "      <th>1</th>\n",
       "      <td>12.58</td>\n",
       "      <td>14.88</td>\n",
       "      <td>2.33</td>\n",
       "      <td>7.704655</td>\n",
       "      <td>2005</td>\n",
       "      <td>8</td>\n",
       "    </tr>\n",
       "    <tr>\n",
       "      <th>2</th>\n",
       "      <td>13.48</td>\n",
       "      <td>14.87</td>\n",
       "      <td>2.60</td>\n",
       "      <td>-0.894188</td>\n",
       "      <td>2005</td>\n",
       "      <td>9</td>\n",
       "    </tr>\n",
       "    <tr>\n",
       "      <th>3</th>\n",
       "      <td>13.20</td>\n",
       "      <td>14.47</td>\n",
       "      <td>2.07</td>\n",
       "      <td>-2.330827</td>\n",
       "      <td>2005</td>\n",
       "      <td>10</td>\n",
       "    </tr>\n",
       "    <tr>\n",
       "      <th>4</th>\n",
       "      <td>13.35</td>\n",
       "      <td>13.88</td>\n",
       "      <td>1.00</td>\n",
       "      <td>3.233256</td>\n",
       "      <td>2005</td>\n",
       "      <td>11</td>\n",
       "    </tr>\n",
       "    <tr>\n",
       "      <th>5</th>\n",
       "      <td>13.49</td>\n",
       "      <td>14.44</td>\n",
       "      <td>1.44</td>\n",
       "      <td>2.237136</td>\n",
       "      <td>2005</td>\n",
       "      <td>12</td>\n",
       "    </tr>\n",
       "    <tr>\n",
       "      <th>6</th>\n",
       "      <td>13.68</td>\n",
       "      <td>17.16</td>\n",
       "      <td>3.58</td>\n",
       "      <td>11.816193</td>\n",
       "      <td>2005</td>\n",
       "      <td>1</td>\n",
       "    </tr>\n",
       "    <tr>\n",
       "      <th>7</th>\n",
       "      <td>15.50</td>\n",
       "      <td>16.97</td>\n",
       "      <td>1.57</td>\n",
       "      <td>5.153294</td>\n",
       "      <td>2005</td>\n",
       "      <td>2</td>\n",
       "    </tr>\n",
       "    <tr>\n",
       "      <th>8</th>\n",
       "      <td>16.20</td>\n",
       "      <td>20.95</td>\n",
       "      <td>4.93</td>\n",
       "      <td>24.565757</td>\n",
       "      <td>2005</td>\n",
       "      <td>3</td>\n",
       "    </tr>\n",
       "    <tr>\n",
       "      <th>9</th>\n",
       "      <td>20.56</td>\n",
       "      <td>20.80</td>\n",
       "      <td>2.78</td>\n",
       "      <td>-2.938247</td>\n",
       "      <td>2005</td>\n",
       "      <td>4</td>\n",
       "    </tr>\n",
       "    <tr>\n",
       "      <th>10</th>\n",
       "      <td>19.80</td>\n",
       "      <td>21.80</td>\n",
       "      <td>6.00</td>\n",
       "      <td>-7.491021</td>\n",
       "      <td>2005</td>\n",
       "      <td>5</td>\n",
       "    </tr>\n",
       "    <tr>\n",
       "      <th>11</th>\n",
       "      <td>18.20</td>\n",
       "      <td>18.40</td>\n",
       "      <td>5.00</td>\n",
       "      <td>-13.366611</td>\n",
       "      <td>2005</td>\n",
       "      <td>6</td>\n",
       "    </tr>\n",
       "    <tr>\n",
       "      <th>12</th>\n",
       "      <td>16.00</td>\n",
       "      <td>17.20</td>\n",
       "      <td>3.38</td>\n",
       "      <td>3.457106</td>\n",
       "      <td>2006</td>\n",
       "      <td>7</td>\n",
       "    </tr>\n",
       "    <tr>\n",
       "      <th>13</th>\n",
       "      <td>15.90</td>\n",
       "      <td>18.60</td>\n",
       "      <td>2.90</td>\n",
       "      <td>10.396040</td>\n",
       "      <td>2006</td>\n",
       "      <td>8</td>\n",
       "    </tr>\n",
       "    <tr>\n",
       "      <th>14</th>\n",
       "      <td>18.00</td>\n",
       "      <td>18.88</td>\n",
       "      <td>2.08</td>\n",
       "      <td>3.475336</td>\n",
       "      <td>2006</td>\n",
       "      <td>9</td>\n",
       "    </tr>\n",
       "    <tr>\n",
       "      <th>15</th>\n",
       "      <td>18.78</td>\n",
       "      <td>24.20</td>\n",
       "      <td>5.70</td>\n",
       "      <td>23.401950</td>\n",
       "      <td>2006</td>\n",
       "      <td>10</td>\n",
       "    </tr>\n",
       "    <tr>\n",
       "      <th>16</th>\n",
       "      <td>22.80</td>\n",
       "      <td>28.47</td>\n",
       "      <td>7.07</td>\n",
       "      <td>11.150132</td>\n",
       "      <td>2006</td>\n",
       "      <td>11</td>\n",
       "    </tr>\n",
       "    <tr>\n",
       "      <th>17</th>\n",
       "      <td>25.40</td>\n",
       "      <td>29.66</td>\n",
       "      <td>5.26</td>\n",
       "      <td>6.516588</td>\n",
       "      <td>2006</td>\n",
       "      <td>12</td>\n",
       "    </tr>\n",
       "    <tr>\n",
       "      <th>18</th>\n",
       "      <td>27.40</td>\n",
       "      <td>34.16</td>\n",
       "      <td>7.16</td>\n",
       "      <td>11.827957</td>\n",
       "      <td>2006</td>\n",
       "      <td>1</td>\n",
       "    </tr>\n",
       "    <tr>\n",
       "      <th>19</th>\n",
       "      <td>30.20</td>\n",
       "      <td>32.60</td>\n",
       "      <td>5.80</td>\n",
       "      <td>-5.072944</td>\n",
       "      <td>2006</td>\n",
       "      <td>2</td>\n",
       "    </tr>\n",
       "  </tbody>\n",
       "</table>\n",
       "</div>"
      ],
      "text/plain": [
       "     Open   High  Price_Range    Returns  year  month\n",
       "0   13.00  14.00         2.75   0.000000  2005      7\n",
       "1   12.58  14.88         2.33   7.704655  2005      8\n",
       "2   13.48  14.87         2.60  -0.894188  2005      9\n",
       "3   13.20  14.47         2.07  -2.330827  2005     10\n",
       "4   13.35  13.88         1.00   3.233256  2005     11\n",
       "5   13.49  14.44         1.44   2.237136  2005     12\n",
       "6   13.68  17.16         3.58  11.816193  2005      1\n",
       "7   15.50  16.97         1.57   5.153294  2005      2\n",
       "8   16.20  20.95         4.93  24.565757  2005      3\n",
       "9   20.56  20.80         2.78  -2.938247  2005      4\n",
       "10  19.80  21.80         6.00  -7.491021  2005      5\n",
       "11  18.20  18.40         5.00 -13.366611  2005      6\n",
       "12  16.00  17.20         3.38   3.457106  2006      7\n",
       "13  15.90  18.60         2.90  10.396040  2006      8\n",
       "14  18.00  18.88         2.08   3.475336  2006      9\n",
       "15  18.78  24.20         5.70  23.401950  2006     10\n",
       "16  22.80  28.47         7.07  11.150132  2006     11\n",
       "17  25.40  29.66         5.26   6.516588  2006     12\n",
       "18  27.40  34.16         7.16  11.827957  2006      1\n",
       "19  30.20  32.60         5.80  -5.072944  2006      2"
      ]
     },
     "execution_count": 78,
     "metadata": {},
     "output_type": "execute_result"
    }
   ],
   "source": [
    "X.head(20)"
   ]
  },
  {
   "cell_type": "code",
   "execution_count": 76,
   "id": "c49b8735",
   "metadata": {},
   "outputs": [],
   "source": [
    "linear_reg=LinearRegression()\n",
    "linear_reg.fit(X_train,y_train)\n",
    "y_pred=linear_reg.predict(X_test)"
   ]
  },
  {
   "cell_type": "code",
   "execution_count": null,
   "id": "0d1485a6",
   "metadata": {},
   "outputs": [],
   "source": []
  }
 ],
 "metadata": {
  "kernelspec": {
   "display_name": "base",
   "language": "python",
   "name": "python3"
  },
  "language_info": {
   "codemirror_mode": {
    "name": "ipython",
    "version": 3
   },
   "file_extension": ".py",
   "mimetype": "text/x-python",
   "name": "python",
   "nbconvert_exporter": "python",
   "pygments_lexer": "ipython3",
   "version": "3.12.7"
  }
 },
 "nbformat": 4,
 "nbformat_minor": 5
}
